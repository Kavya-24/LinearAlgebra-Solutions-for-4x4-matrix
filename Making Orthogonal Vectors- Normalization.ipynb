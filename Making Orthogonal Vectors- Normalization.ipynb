{
 "cells": [
  {
   "cell_type": "code",
   "execution_count": 22,
   "metadata": {},
   "outputs": [],
   "source": [
    "\n",
    "import numpy as np\n",
    "import numpy.linalg as la\n",
    "%matplotlib inline\n",
    "import matplotlib.pyplot as plt\n",
    "import numpy as np\n",
    "\n",
    "\n",
    "verySmallNumber = 1e-14 # That's 1×10⁻¹⁴ = 0.00000000000001\n",
    "\n",
    "#Generalized Version to find the orthogobnal vectors of a given set of vectors\n",
    "def gsBasis(A) :\n",
    "    B = np.array(A, dtype=np.float_)\n",
    "    \n",
    "    \n",
    "    for i in range(B.shape[1]) :\n",
    "        #Number of columns in a row. (0,1,2,3 Later Subscript)\n",
    "        #One less than i\n",
    "        for j in range(i) : \n",
    "            # Subtract the overlap with previous vectors.\n",
    "            B[:, i] =  B[:, i] - B[:, i] @  B[:, j] *  B[:, j]  \n",
    "        \n",
    "        # Next insert code to do the normalisation test for B[:, i]\n",
    "        if la.norm(B[:, i]) > verySmallNumber :\n",
    "        #Divide by its modulus\n",
    "            B[:, i] = B[:, i] / la.norm(B[:, i])\n",
    "        else :\n",
    "        #Not linearly independent\n",
    "            B[:, i] = np.zeros_like(B[:, i])\n",
    "    \n",
    "          \n",
    "    return B\n",
    "\n",
    "#Get the reflection  an image  for 2x2 reference basis\n",
    "def build_reflection_matrix(diffBasis) : # The parameter diffBasis is a 2×2 matrix that is passed to the function.\n",
    "    # Use the gsBasis function on bearBasis to get the mirror's orthonormal basis.\n",
    "    E = gsBasis(diffBasis)\n",
    "    #Inverse of the basis\n",
    "    Ei = np.linalg.inv(E)\n",
    "    \n",
    "    # Write a matrix in component form that performs the mirror's reflection in the mirror's basis.\n",
    "    # Recall, the mirror operates by negating the last component of a vector.\n",
    "    # Replace a,b,c,d with appropriate values\n",
    "    #Te is the refection transformation\n",
    "    TE = np.array([[1, 0],\n",
    "                   [0, -1]])\n",
    "    # Combine the matrices E and TE to produce your transformation matrix.\n",
    "    T = E @ TE\n",
    "    # Finally, we return the result. There is no need to change this line.\n",
    "    return T\n",
    "\n",
    "\n",
    "def dimensions(A) :\n",
    "    return np.sum(la.norm(gsBasis(A), axis=0))\n"
   ]
  },
  {
   "cell_type": "code",
   "execution_count": 23,
   "metadata": {},
   "outputs": [
    {
     "data": {
      "text/plain": [
       "array([[ 0.93704257, -0.12700832, -0.32530002,  0.        ,  0.        ],\n",
       "       [ 0.31234752,  0.72140727,  0.61807005,  0.        ,  0.        ],\n",
       "       [ 0.15617376, -0.6807646 ,  0.71566005,  0.        ,  0.        ]])"
      ]
     },
     "execution_count": 23,
     "metadata": {},
     "output_type": "execute_result"
    }
   ],
   "source": [
    "B = np.array([[6,2,1,7,5],\n",
    "              [2,8,5,-4,1],\n",
    "              [1,-6,3,2,8]], dtype=np.float_)\n",
    "gsBasis(B)"
   ]
  }
 ],
 "metadata": {
  "kernelspec": {
   "display_name": "Python 3",
   "language": "python",
   "name": "python3"
  },
  "language_info": {
   "codemirror_mode": {
    "name": "ipython",
    "version": 3
   },
   "file_extension": ".py",
   "mimetype": "text/x-python",
   "name": "python",
   "nbconvert_exporter": "python",
   "pygments_lexer": "ipython3",
   "version": "3.7.3"
  }
 },
 "nbformat": 4,
 "nbformat_minor": 2
}
